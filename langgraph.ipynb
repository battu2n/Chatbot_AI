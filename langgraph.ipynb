{
 "cells": [
  {
   "cell_type": "code",
   "execution_count": null,
   "id": "965371b8",
   "metadata": {},
   "outputs": [
    {
     "name": "stdout",
     "output_type": "stream",
     "text": [
      "Requirement already satisfied: langgraph[groc] in c:\\users\\nagav\\.vscode\\python_code\\chatbot-env\\lib\\site-packages (0.4.8)\n",
      "Requirement already satisfied: langchain-core>=0.1 in c:\\users\\nagav\\.vscode\\python_code\\chatbot-env\\lib\\site-packages (from langgraph[groc]) (0.3.66)\n",
      "Requirement already satisfied: langgraph-checkpoint>=2.0.26 in c:\\users\\nagav\\.vscode\\python_code\\chatbot-env\\lib\\site-packages (from langgraph[groc]) (2.1.0)\n",
      "Requirement already satisfied: langgraph-prebuilt>=0.2.0 in c:\\users\\nagav\\.vscode\\python_code\\chatbot-env\\lib\\site-packages (from langgraph[groc]) (0.2.2)\n",
      "Requirement already satisfied: langgraph-sdk>=0.1.42 in c:\\users\\nagav\\.vscode\\python_code\\chatbot-env\\lib\\site-packages (from langgraph[groc]) (0.1.70)\n",
      "Requirement already satisfied: pydantic>=2.7.4 in c:\\users\\nagav\\.vscode\\python_code\\chatbot-env\\lib\\site-packages (from langgraph[groc]) (2.11.7)\n",
      "Requirement already satisfied: xxhash>=3.5.0 in c:\\users\\nagav\\.vscode\\python_code\\chatbot-env\\lib\\site-packages (from langgraph[groc]) (3.5.0)\n",
      "Requirement already satisfied: langsmith>=0.3.45 in c:\\users\\nagav\\.vscode\\python_code\\chatbot-env\\lib\\site-packages (from langchain-core>=0.1->langgraph[groc]) (0.3.45)\n",
      "Requirement already satisfied: tenacity!=8.4.0,<10.0.0,>=8.1.0 in c:\\users\\nagav\\.vscode\\python_code\\chatbot-env\\lib\\site-packages (from langchain-core>=0.1->langgraph[groc]) (9.1.2)\n",
      "Requirement already satisfied: jsonpatch<2.0,>=1.33 in c:\\users\\nagav\\.vscode\\python_code\\chatbot-env\\lib\\site-packages (from langchain-core>=0.1->langgraph[groc]) (1.33)\n",
      "Requirement already satisfied: PyYAML>=5.3 in c:\\users\\nagav\\.vscode\\python_code\\chatbot-env\\lib\\site-packages (from langchain-core>=0.1->langgraph[groc]) (6.0.2)\n",
      "Requirement already satisfied: packaging<25,>=23.2 in c:\\users\\nagav\\.vscode\\python_code\\chatbot-env\\lib\\site-packages (from langchain-core>=0.1->langgraph[groc]) (24.2)\n",
      "Requirement already satisfied: typing-extensions>=4.7 in c:\\users\\nagav\\.vscode\\python_code\\chatbot-env\\lib\\site-packages (from langchain-core>=0.1->langgraph[groc]) (4.14.0)\n",
      "Requirement already satisfied: jsonpointer>=1.9 in c:\\users\\nagav\\.vscode\\python_code\\chatbot-env\\lib\\site-packages (from jsonpatch<2.0,>=1.33->langchain-core>=0.1->langgraph[groc]) (3.0.0)\n",
      "Requirement already satisfied: ormsgpack>=1.10.0 in c:\\users\\nagav\\.vscode\\python_code\\chatbot-env\\lib\\site-packages (from langgraph-checkpoint>=2.0.26->langgraph[groc]) (1.10.0)\n",
      "Requirement already satisfied: httpx>=0.25.2 in c:\\users\\nagav\\.vscode\\python_code\\chatbot-env\\lib\\site-packages (from langgraph-sdk>=0.1.42->langgraph[groc]) (0.28.1)\n",
      "Requirement already satisfied: orjson>=3.10.1 in c:\\users\\nagav\\.vscode\\python_code\\chatbot-env\\lib\\site-packages (from langgraph-sdk>=0.1.42->langgraph[groc]) (3.10.18)\n",
      "Requirement already satisfied: anyio in c:\\users\\nagav\\.vscode\\python_code\\chatbot-env\\lib\\site-packages (from httpx>=0.25.2->langgraph-sdk>=0.1.42->langgraph[groc]) (4.9.0)\n",
      "Requirement already satisfied: certifi in c:\\users\\nagav\\.vscode\\python_code\\chatbot-env\\lib\\site-packages (from httpx>=0.25.2->langgraph-sdk>=0.1.42->langgraph[groc]) (2025.6.15)\n",
      "Requirement already satisfied: httpcore==1.* in c:\\users\\nagav\\.vscode\\python_code\\chatbot-env\\lib\\site-packages (from httpx>=0.25.2->langgraph-sdk>=0.1.42->langgraph[groc]) (1.0.9)\n",
      "Requirement already satisfied: idna in c:\\users\\nagav\\.vscode\\python_code\\chatbot-env\\lib\\site-packages (from httpx>=0.25.2->langgraph-sdk>=0.1.42->langgraph[groc]) (3.10)\n",
      "Requirement already satisfied: h11>=0.16 in c:\\users\\nagav\\.vscode\\python_code\\chatbot-env\\lib\\site-packages (from httpcore==1.*->httpx>=0.25.2->langgraph-sdk>=0.1.42->langgraph[groc]) (0.16.0)\n",
      "Requirement already satisfied: requests<3,>=2 in c:\\users\\nagav\\.vscode\\python_code\\chatbot-env\\lib\\site-packages (from langsmith>=0.3.45->langchain-core>=0.1->langgraph[groc]) (2.32.4)\n",
      "Requirement already satisfied: requests-toolbelt<2.0.0,>=1.0.0 in c:\\users\\nagav\\.vscode\\python_code\\chatbot-env\\lib\\site-packages (from langsmith>=0.3.45->langchain-core>=0.1->langgraph[groc]) (1.0.0)\n",
      "Requirement already satisfied: zstandard<0.24.0,>=0.23.0 in c:\\users\\nagav\\.vscode\\python_code\\chatbot-env\\lib\\site-packages (from langsmith>=0.3.45->langchain-core>=0.1->langgraph[groc]) (0.23.0)\n",
      "Requirement already satisfied: annotated-types>=0.6.0 in c:\\users\\nagav\\.vscode\\python_code\\chatbot-env\\lib\\site-packages (from pydantic>=2.7.4->langgraph[groc]) (0.7.0)\n",
      "Requirement already satisfied: pydantic-core==2.33.2 in c:\\users\\nagav\\.vscode\\python_code\\chatbot-env\\lib\\site-packages (from pydantic>=2.7.4->langgraph[groc]) (2.33.2)\n",
      "Requirement already satisfied: typing-inspection>=0.4.0 in c:\\users\\nagav\\.vscode\\python_code\\chatbot-env\\lib\\site-packages (from pydantic>=2.7.4->langgraph[groc]) (0.4.1)\n",
      "Requirement already satisfied: charset_normalizer<4,>=2 in c:\\users\\nagav\\.vscode\\python_code\\chatbot-env\\lib\\site-packages (from requests<3,>=2->langsmith>=0.3.45->langchain-core>=0.1->langgraph[groc]) (3.4.2)\n",
      "Requirement already satisfied: urllib3<3,>=1.21.1 in c:\\users\\nagav\\.vscode\\python_code\\chatbot-env\\lib\\site-packages (from requests<3,>=2->langsmith>=0.3.45->langchain-core>=0.1->langgraph[groc]) (2.5.0)\n",
      "Requirement already satisfied: sniffio>=1.1 in c:\\users\\nagav\\.vscode\\python_code\\chatbot-env\\lib\\site-packages (from anyio->httpx>=0.25.2->langgraph-sdk>=0.1.42->langgraph[groc]) (1.3.1)\n"
     ]
    },
    {
     "name": "stderr",
     "output_type": "stream",
     "text": [
      "WARNING: Retrying (Retry(total=4, connect=None, read=None, redirect=None, status=None)) after connection broken by 'ProtocolError('Connection aborted.', ConnectionResetError(10054, 'An existing connection was forcibly closed by the remote host', None, 10054, None))': /simple/langgraph/\n",
      "WARNING: langgraph 0.4.8 does not provide the extra 'groc'\n"
     ]
    }
   ],
   "source": [
    "!pip install -U \"langgraph[groq]\"\n"
   ]
  },
  {
   "cell_type": "code",
   "execution_count": 11,
   "id": "33921249",
   "metadata": {},
   "outputs": [
    {
     "name": "stdout",
     "output_type": "stream",
     "text": [
      "Requirement already satisfied: langchain[groq] in c:\\users\\nagav\\.vscode\\python_code\\chatbot-env\\lib\\site-packages (0.3.26)\n",
      "Requirement already satisfied: langchain-core<1.0.0,>=0.3.66 in c:\\users\\nagav\\.vscode\\python_code\\chatbot-env\\lib\\site-packages (from langchain[groq]) (0.3.66)\n",
      "Requirement already satisfied: langchain-text-splitters<1.0.0,>=0.3.8 in c:\\users\\nagav\\.vscode\\python_code\\chatbot-env\\lib\\site-packages (from langchain[groq]) (0.3.8)\n",
      "Requirement already satisfied: langsmith>=0.1.17 in c:\\users\\nagav\\.vscode\\python_code\\chatbot-env\\lib\\site-packages (from langchain[groq]) (0.3.45)\n",
      "Requirement already satisfied: pydantic<3.0.0,>=2.7.4 in c:\\users\\nagav\\.vscode\\python_code\\chatbot-env\\lib\\site-packages (from langchain[groq]) (2.11.7)\n",
      "Requirement already satisfied: SQLAlchemy<3,>=1.4 in c:\\users\\nagav\\.vscode\\python_code\\chatbot-env\\lib\\site-packages (from langchain[groq]) (2.0.41)\n",
      "Requirement already satisfied: requests<3,>=2 in c:\\users\\nagav\\.vscode\\python_code\\chatbot-env\\lib\\site-packages (from langchain[groq]) (2.32.4)\n",
      "Requirement already satisfied: PyYAML>=5.3 in c:\\users\\nagav\\.vscode\\python_code\\chatbot-env\\lib\\site-packages (from langchain[groq]) (6.0.2)\n",
      "Requirement already satisfied: langchain-groq in c:\\users\\nagav\\.vscode\\python_code\\chatbot-env\\lib\\site-packages (from langchain[groq]) (0.3.2)\n",
      "Requirement already satisfied: tenacity!=8.4.0,<10.0.0,>=8.1.0 in c:\\users\\nagav\\.vscode\\python_code\\chatbot-env\\lib\\site-packages (from langchain-core<1.0.0,>=0.3.66->langchain[groq]) (9.1.2)\n",
      "Requirement already satisfied: jsonpatch<2.0,>=1.33 in c:\\users\\nagav\\.vscode\\python_code\\chatbot-env\\lib\\site-packages (from langchain-core<1.0.0,>=0.3.66->langchain[groq]) (1.33)\n",
      "Requirement already satisfied: packaging<25,>=23.2 in c:\\users\\nagav\\.vscode\\python_code\\chatbot-env\\lib\\site-packages (from langchain-core<1.0.0,>=0.3.66->langchain[groq]) (24.2)\n",
      "Requirement already satisfied: typing-extensions>=4.7 in c:\\users\\nagav\\.vscode\\python_code\\chatbot-env\\lib\\site-packages (from langchain-core<1.0.0,>=0.3.66->langchain[groq]) (4.14.0)\n",
      "Requirement already satisfied: jsonpointer>=1.9 in c:\\users\\nagav\\.vscode\\python_code\\chatbot-env\\lib\\site-packages (from jsonpatch<2.0,>=1.33->langchain-core<1.0.0,>=0.3.66->langchain[groq]) (3.0.0)\n",
      "Requirement already satisfied: annotated-types>=0.6.0 in c:\\users\\nagav\\.vscode\\python_code\\chatbot-env\\lib\\site-packages (from pydantic<3.0.0,>=2.7.4->langchain[groq]) (0.7.0)\n",
      "Requirement already satisfied: pydantic-core==2.33.2 in c:\\users\\nagav\\.vscode\\python_code\\chatbot-env\\lib\\site-packages (from pydantic<3.0.0,>=2.7.4->langchain[groq]) (2.33.2)\n",
      "Requirement already satisfied: typing-inspection>=0.4.0 in c:\\users\\nagav\\.vscode\\python_code\\chatbot-env\\lib\\site-packages (from pydantic<3.0.0,>=2.7.4->langchain[groq]) (0.4.1)\n",
      "Requirement already satisfied: charset_normalizer<4,>=2 in c:\\users\\nagav\\.vscode\\python_code\\chatbot-env\\lib\\site-packages (from requests<3,>=2->langchain[groq]) (3.4.2)\n",
      "Requirement already satisfied: idna<4,>=2.5 in c:\\users\\nagav\\.vscode\\python_code\\chatbot-env\\lib\\site-packages (from requests<3,>=2->langchain[groq]) (3.10)\n",
      "Requirement already satisfied: urllib3<3,>=1.21.1 in c:\\users\\nagav\\.vscode\\python_code\\chatbot-env\\lib\\site-packages (from requests<3,>=2->langchain[groq]) (2.5.0)\n",
      "Requirement already satisfied: certifi>=2017.4.17 in c:\\users\\nagav\\.vscode\\python_code\\chatbot-env\\lib\\site-packages (from requests<3,>=2->langchain[groq]) (2025.6.15)\n",
      "Requirement already satisfied: greenlet>=1 in c:\\users\\nagav\\.vscode\\python_code\\chatbot-env\\lib\\site-packages (from SQLAlchemy<3,>=1.4->langchain[groq]) (3.2.3)\n",
      "Requirement already satisfied: httpx<1,>=0.23.0 in c:\\users\\nagav\\.vscode\\python_code\\chatbot-env\\lib\\site-packages (from langsmith>=0.1.17->langchain[groq]) (0.28.1)\n",
      "Requirement already satisfied: orjson<4.0.0,>=3.9.14 in c:\\users\\nagav\\.vscode\\python_code\\chatbot-env\\lib\\site-packages (from langsmith>=0.1.17->langchain[groq]) (3.10.18)\n",
      "Requirement already satisfied: requests-toolbelt<2.0.0,>=1.0.0 in c:\\users\\nagav\\.vscode\\python_code\\chatbot-env\\lib\\site-packages (from langsmith>=0.1.17->langchain[groq]) (1.0.0)\n",
      "Requirement already satisfied: zstandard<0.24.0,>=0.23.0 in c:\\users\\nagav\\.vscode\\python_code\\chatbot-env\\lib\\site-packages (from langsmith>=0.1.17->langchain[groq]) (0.23.0)\n",
      "Requirement already satisfied: anyio in c:\\users\\nagav\\.vscode\\python_code\\chatbot-env\\lib\\site-packages (from httpx<1,>=0.23.0->langsmith>=0.1.17->langchain[groq]) (4.9.0)\n",
      "Requirement already satisfied: httpcore==1.* in c:\\users\\nagav\\.vscode\\python_code\\chatbot-env\\lib\\site-packages (from httpx<1,>=0.23.0->langsmith>=0.1.17->langchain[groq]) (1.0.9)\n",
      "Requirement already satisfied: h11>=0.16 in c:\\users\\nagav\\.vscode\\python_code\\chatbot-env\\lib\\site-packages (from httpcore==1.*->httpx<1,>=0.23.0->langsmith>=0.1.17->langchain[groq]) (0.16.0)\n",
      "Requirement already satisfied: sniffio>=1.1 in c:\\users\\nagav\\.vscode\\python_code\\chatbot-env\\lib\\site-packages (from anyio->httpx<1,>=0.23.0->langsmith>=0.1.17->langchain[groq]) (1.3.1)\n",
      "Requirement already satisfied: groq<1,>=0.4.1 in c:\\users\\nagav\\.vscode\\python_code\\chatbot-env\\lib\\site-packages (from langchain-groq->langchain[groq]) (0.28.0)\n",
      "Requirement already satisfied: distro<2,>=1.7.0 in c:\\users\\nagav\\.vscode\\python_code\\chatbot-env\\lib\\site-packages (from groq<1,>=0.4.1->langchain-groq->langchain[groq]) (1.9.0)\n"
     ]
    },
    {
     "name": "stderr",
     "output_type": "stream",
     "text": [
      "WARNING: Retrying (Retry(total=4, connect=None, read=None, redirect=None, status=None)) after connection broken by 'ProtocolError('Connection aborted.', ConnectionResetError(10054, 'An existing connection was forcibly closed by the remote host', None, 10054, None))': /simple/langchain/\n"
     ]
    }
   ],
   "source": [
    "! pip install -U \"langchain[groq]\""
   ]
  },
  {
   "cell_type": "code",
   "execution_count": 1,
   "id": "93b9052b",
   "metadata": {},
   "outputs": [],
   "source": [
    "from langgraph.prebuilt import create_react_agent\n",
    "from dotenv import load_dotenv\n",
    "load_dotenv()\n",
    "\n",
    "def assist_with_sales(cars: str) -> str:  \n",
    "    \"\"\"Assist with car sales\n",
    "    Args:\n",
    "     cars (str): The cars to assist with. it could be \n",
    "                                             camry\n",
    "                                             corolla \n",
    "                                             rav4\n",
    "                                             highlander \n",
    "                                             sienna\n",
    "                                             tundra\n",
    "    \"\"\"   \n",
    "\n",
    "    return f\"I am here to explain about the {cars}\"\n",
    "\n",
    "\n",
    "persona = \"\"\" \n",
    "You are an experinced salesman, capable of convincing anyone to buy the cars in the following :\n",
    "* camry\n",
    "* corolla  \n",
    "* rav4\n",
    "* highlander  \n",
    "* sienna   \n",
    "* tundra    \n",
    "You are a friendly and helpful assistant. \"\"\"\n",
    "\n",
    "agent = create_react_agent(\n",
    "    model=\"groq:llama-3.1-8b-instant\",  \n",
    "    tools=[assist_with_sales],  \n",
    "    prompt=\"You are a helpful assistant\"  \n",
    ")\n",
    "\n",
    "# Run the agent\n",
    "from IPython.display import display_markdown\n",
    "def run_agent(message):\n",
    "    out=agent.invoke(\n",
    "       {\"messages\": [{\"role\": \"user\", \"content\": message }]},\n",
    "    )\n",
    "    display_markdown(out['messages'][-1].content, raw=True)\n",
    "\n"
   ]
  },
  {
   "cell_type": "code",
   "execution_count": 10,
   "id": "503037f9",
   "metadata": {},
   "outputs": [
    {
     "data": {
      "text/markdown": [
       "The Toyota Tundra is a full-size pickup truck produced by the Japanese automaker Toyota. It was first introduced in 1999 as a 2000 model and has since become a popular choice for those seeking a reliable and capable pickup truck.\n",
       "\n",
       "Here are some key features and benefits of the Toyota Tundra:\n",
       "\n",
       "1. **Powerful Engine Options**: The Tundra comes with a range of powerful engine options, including a 3.5-liter V6, 4.6-liter V8, and 5.7-liter V8. The 5.7-liter V8 is the most popular choice, producing 381 horsepower and 401 lb-ft of torque.\n",
       "2. **Smooth and Capable Transmission**: The Tundra features a smooth and capable transmission system, including a 6-speed automatic and a 6-speed manual. The automatic transmission is paired with a tow package, allowing for up to 10,200 pounds of towing capacity.\n",
       "3. **Impressive Towing Capacity**: The Tundra has a maximum towing capacity of up to 10,200 pounds, making it an excellent choice for those who need to tow trailers, boats, or RVs.\n",
       "4. **Spacious Interior**: The Tundra has a spacious interior with plenty of room for passengers and cargo. The cabin is also equipped with a range of comfort features, including heated and ventilated seats, a premium audio system, and a touchscreen infotainment system.\n",
       "5. **Off-Road Capability**: The Tundra is available with a range of off-road packages, including the TRD Off-Road and TRD Pro. These packages feature a lockable rear differential, crawl control, and a multi-terrain select system, making the Tundra an excellent choice for off-road enthusiasts.\n",
       "6. **Reliability and Durability**: The Toyota Tundra is known for its reliability and durability, with many owners reporting high mileage without major issues.\n",
       "7. **Strong Resale Value**: The Tundra holds its value well, making it an excellent choice for those who plan to sell their vehicle in the future.\n",
       "\n",
       "Overall, the Toyota Tundra is a powerful, capable, and reliable pickup truck that is well-suited for a range of applications, from work to play."
      ]
     },
     "metadata": {},
     "output_type": "display_data"
    }
   ],
   "source": [
    "run_agent(\"i want to buy tundra\")\n"
   ]
  }
 ],
 "metadata": {
  "kernelspec": {
   "display_name": "chatbot-env",
   "language": "python",
   "name": "python3"
  },
  "language_info": {
   "codemirror_mode": {
    "name": "ipython",
    "version": 3
   },
   "file_extension": ".py",
   "mimetype": "text/x-python",
   "name": "python",
   "nbconvert_exporter": "python",
   "pygments_lexer": "ipython3",
   "version": "3.11.4"
  }
 },
 "nbformat": 4,
 "nbformat_minor": 5
}
